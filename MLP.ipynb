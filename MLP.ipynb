{
  "nbformat": 4,
  "nbformat_minor": 0,
  "metadata": {
    "colab": {
      "name": "MLP.ipynb",
      "provenance": []
    },
    "kernelspec": {
      "name": "python3",
      "display_name": "Python 3"
    }
  },
  "cells": [
    {
      "cell_type": "code",
      "metadata": {
        "id": "E9My2U4wngy8",
        "colab_type": "code",
        "colab": {}
      },
      "source": [
        "#generate data \n",
        "#initialize weights and biases\n",
        "#forward pass data \n",
        "#calculate loss \n",
        "#backward pass \n",
        "#update gradients \n",
        "#repeat until lowest loss \n"
      ],
      "execution_count": 0,
      "outputs": []
    },
    {
      "cell_type": "code",
      "metadata": {
        "id": "fZZ4LD6prNiX",
        "colab_type": "code",
        "colab": {}
      },
      "source": [
        "import torch \n",
        "import torch.nn as nn\n",
        "import numpy as np"
      ],
      "execution_count": 0,
      "outputs": []
    },
    {
      "cell_type": "code",
      "metadata": {
        "id": "yvMlImydpHal",
        "colab_type": "code",
        "colab": {}
      },
      "source": [
        "class dense_layer():\n",
        "  def __init__(self, current_layer, previous_layer): \n",
        "    self.W = 0.01 * torch.rand(current_layer, previous_layer,requires_grad=True)\n",
        "    self.b = torch.zeros(1, requires_grad=True)\n",
        "\n",
        "  def forward_pass(self, inputs): \n",
        "    self.z = torch.matmul(self.W, inputs) + self.b\n",
        "    self.a = F.relu(self.z)\n",
        "\n",
        "  def forward_pass_last(self, inputs):\n",
        "    self.z = torch.matmul(self.W, inputs) + self.b\n",
        "    g = nn.Sigmoid()\n",
        "    self.output = g(z)\n",
        "\n",
        "class MSELoss(): \n",
        "  def __init__(self, inputs, targets): \n",
        "    criterion = nn.MSELoss()\n",
        "    self.loss = criterion(inputs, targets)\n",
        "\n",
        "\n"
      ],
      "execution_count": 0,
      "outputs": []
    },
    {
      "cell_type": "code",
      "metadata": {
        "id": "BKXIHLMMw1L5",
        "colab_type": "code",
        "colab": {
          "base_uri": "https://localhost:8080/",
          "height": 86
        },
        "outputId": "da105114-9dda-49a2-c873-d85820777499"
      },
      "source": [
        "X = torch.randn(3, 4)\n",
        "Y = torch.tensor([1,3,2,2,1])\n",
        "print(X)\n",
        "print(Y)"
      ],
      "execution_count": 394,
      "outputs": [
        {
          "output_type": "stream",
          "text": [
            "tensor([[-0.1533,  0.4095,  0.1043,  0.9206],\n",
            "        [ 1.0822,  0.2294, -1.3528,  0.8433],\n",
            "        [-1.3663,  0.7364,  2.0651,  0.4022]])\n",
            "tensor([1, 3, 2, 2, 1])\n"
          ],
          "name": "stdout"
        }
      ]
    },
    {
      "cell_type": "code",
      "metadata": {
        "id": "KA6oqF5V-YAy",
        "colab_type": "code",
        "colab": {
          "base_uri": "https://localhost:8080/",
          "height": 34
        },
        "outputId": "dd3c4dfb-83ae-4377-f6e8-37cd33862aa4"
      },
      "source": [
        "d1 = dense_layer(5, 3) \n",
        "d1.forward_pass(X)\n",
        "d2 = dense_layer(2, 5)\n",
        "d2.forward_pass(d1.a)\n",
        "d3 = dense_layer(1, 2)\n",
        "d3.forward_pass_last(d2.a)\n",
        "torch.sum(d3.output)"
      ],
      "execution_count": 400,
      "outputs": [
        {
          "output_type": "execute_result",
          "data": {
            "text/plain": [
              "tensor(7.8277)"
            ]
          },
          "metadata": {
            "tags": []
          },
          "execution_count": 400
        }
      ]
    },
    {
      "cell_type": "code",
      "metadata": {
        "id": "E-Ze710cAu94",
        "colab_type": "code",
        "colab": {}
      },
      "source": [
        ""
      ],
      "execution_count": 0,
      "outputs": []
    }
  ]
}