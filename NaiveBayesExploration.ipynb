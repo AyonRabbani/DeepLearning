{
  "nbformat": 4,
  "nbformat_minor": 0,
  "metadata": {
    "colab": {
      "name": "NaiveBayesExploration.ipynb",
      "provenance": [],
      "collapsed_sections": []
    },
    "kernelspec": {
      "name": "python3",
      "display_name": "Python 3"
    }
  },
  "cells": [
    {
      "cell_type": "code",
      "metadata": {
        "id": "znZiM5sqsyHf",
        "colab_type": "code",
        "outputId": "044af34b-bc65-4ad3-ac6d-de3610bb3b18",
        "colab": {
          "base_uri": "https://localhost:8080/",
          "height": 69
        }
      },
      "source": [
        "import pandas as pd\n",
        "import numpy as np\n",
        "import re\n",
        "import nltk \n",
        "from nltk import word_tokenize, FreqDist\n",
        "nltk.download('punkt')"
      ],
      "execution_count": 116,
      "outputs": [
        {
          "output_type": "stream",
          "text": [
            "[nltk_data] Downloading package punkt to /root/nltk_data...\n",
            "[nltk_data]   Package punkt is already up-to-date!\n"
          ],
          "name": "stdout"
        },
        {
          "output_type": "execute_result",
          "data": {
            "text/plain": [
              "True"
            ]
          },
          "metadata": {
            "tags": []
          },
          "execution_count": 116
        }
      ]
    },
    {
      "cell_type": "code",
      "metadata": {
        "id": "0I8plPNf0Imj",
        "colab_type": "code",
        "outputId": "dfc1343c-cd7d-4c26-f960-6eb8fa4ba447",
        "colab": {
          "base_uri": "https://localhost:8080/",
          "height": 206
        }
      },
      "source": [
        "df = pd.read_csv('amazon_cells_labelled.txt',sep=\"\\t\")\n",
        "df.columns = ['sentence', 'label']\n",
        "df.head()"
      ],
      "execution_count": 117,
      "outputs": [
        {
          "output_type": "execute_result",
          "data": {
            "text/html": [
              "<div>\n",
              "<style scoped>\n",
              "    .dataframe tbody tr th:only-of-type {\n",
              "        vertical-align: middle;\n",
              "    }\n",
              "\n",
              "    .dataframe tbody tr th {\n",
              "        vertical-align: top;\n",
              "    }\n",
              "\n",
              "    .dataframe thead th {\n",
              "        text-align: right;\n",
              "    }\n",
              "</style>\n",
              "<table border=\"1\" class=\"dataframe\">\n",
              "  <thead>\n",
              "    <tr style=\"text-align: right;\">\n",
              "      <th></th>\n",
              "      <th>sentence</th>\n",
              "      <th>label</th>\n",
              "    </tr>\n",
              "  </thead>\n",
              "  <tbody>\n",
              "    <tr>\n",
              "      <th>0</th>\n",
              "      <td>Good case, Excellent value.</td>\n",
              "      <td>1</td>\n",
              "    </tr>\n",
              "    <tr>\n",
              "      <th>1</th>\n",
              "      <td>Great for the jawbone.</td>\n",
              "      <td>1</td>\n",
              "    </tr>\n",
              "    <tr>\n",
              "      <th>2</th>\n",
              "      <td>Tied to charger for conversations lasting more...</td>\n",
              "      <td>0</td>\n",
              "    </tr>\n",
              "    <tr>\n",
              "      <th>3</th>\n",
              "      <td>The mic is great.</td>\n",
              "      <td>1</td>\n",
              "    </tr>\n",
              "    <tr>\n",
              "      <th>4</th>\n",
              "      <td>I have to jiggle the plug to get it to line up...</td>\n",
              "      <td>0</td>\n",
              "    </tr>\n",
              "  </tbody>\n",
              "</table>\n",
              "</div>"
            ],
            "text/plain": [
              "                                            sentence  label\n",
              "0                        Good case, Excellent value.      1\n",
              "1                             Great for the jawbone.      1\n",
              "2  Tied to charger for conversations lasting more...      0\n",
              "3                                  The mic is great.      1\n",
              "4  I have to jiggle the plug to get it to line up...      0"
            ]
          },
          "metadata": {
            "tags": []
          },
          "execution_count": 117
        }
      ]
    },
    {
      "cell_type": "code",
      "metadata": {
        "id": "4MDB0v_Q2C1t",
        "colab_type": "code",
        "outputId": "76008876-4214-43a1-f6da-43b3045c5da5",
        "colab": {
          "base_uri": "https://localhost:8080/",
          "height": 206
        }
      },
      "source": [
        "negative_doc = df[df['label'] == 0].copy()\n",
        "negative_doc.head()"
      ],
      "execution_count": 16,
      "outputs": [
        {
          "output_type": "execute_result",
          "data": {
            "text/html": [
              "<div>\n",
              "<style scoped>\n",
              "    .dataframe tbody tr th:only-of-type {\n",
              "        vertical-align: middle;\n",
              "    }\n",
              "\n",
              "    .dataframe tbody tr th {\n",
              "        vertical-align: top;\n",
              "    }\n",
              "\n",
              "    .dataframe thead th {\n",
              "        text-align: right;\n",
              "    }\n",
              "</style>\n",
              "<table border=\"1\" class=\"dataframe\">\n",
              "  <thead>\n",
              "    <tr style=\"text-align: right;\">\n",
              "      <th></th>\n",
              "      <th>sentence</th>\n",
              "      <th>label</th>\n",
              "    </tr>\n",
              "  </thead>\n",
              "  <tbody>\n",
              "    <tr>\n",
              "      <th>2</th>\n",
              "      <td>Tied to charger for conversations lasting more...</td>\n",
              "      <td>0</td>\n",
              "    </tr>\n",
              "    <tr>\n",
              "      <th>4</th>\n",
              "      <td>I have to jiggle the plug to get it to line up...</td>\n",
              "      <td>0</td>\n",
              "    </tr>\n",
              "    <tr>\n",
              "      <th>5</th>\n",
              "      <td>If you have several dozen or several hundred c...</td>\n",
              "      <td>0</td>\n",
              "    </tr>\n",
              "    <tr>\n",
              "      <th>7</th>\n",
              "      <td>Needless to say, I wasted my money.</td>\n",
              "      <td>0</td>\n",
              "    </tr>\n",
              "    <tr>\n",
              "      <th>8</th>\n",
              "      <td>What a waste of money and time!.</td>\n",
              "      <td>0</td>\n",
              "    </tr>\n",
              "  </tbody>\n",
              "</table>\n",
              "</div>"
            ],
            "text/plain": [
              "                                            sentence  label\n",
              "2  Tied to charger for conversations lasting more...      0\n",
              "4  I have to jiggle the plug to get it to line up...      0\n",
              "5  If you have several dozen or several hundred c...      0\n",
              "7                Needless to say, I wasted my money.      0\n",
              "8                   What a waste of money and time!.      0"
            ]
          },
          "metadata": {
            "tags": []
          },
          "execution_count": 16
        }
      ]
    },
    {
      "cell_type": "code",
      "metadata": {
        "id": "ukGP1BKC2hY3",
        "colab_type": "code",
        "outputId": "9faa4465-4b54-434e-ad90-24cfe939431d",
        "colab": {
          "base_uri": "https://localhost:8080/",
          "height": 206
        }
      },
      "source": [
        "positive_doc = df[df['label'] == 1].copy()\n",
        "positive_doc.head()"
      ],
      "execution_count": 17,
      "outputs": [
        {
          "output_type": "execute_result",
          "data": {
            "text/html": [
              "<div>\n",
              "<style scoped>\n",
              "    .dataframe tbody tr th:only-of-type {\n",
              "        vertical-align: middle;\n",
              "    }\n",
              "\n",
              "    .dataframe tbody tr th {\n",
              "        vertical-align: top;\n",
              "    }\n",
              "\n",
              "    .dataframe thead th {\n",
              "        text-align: right;\n",
              "    }\n",
              "</style>\n",
              "<table border=\"1\" class=\"dataframe\">\n",
              "  <thead>\n",
              "    <tr style=\"text-align: right;\">\n",
              "      <th></th>\n",
              "      <th>sentence</th>\n",
              "      <th>label</th>\n",
              "    </tr>\n",
              "  </thead>\n",
              "  <tbody>\n",
              "    <tr>\n",
              "      <th>0</th>\n",
              "      <td>Good case, Excellent value.</td>\n",
              "      <td>1</td>\n",
              "    </tr>\n",
              "    <tr>\n",
              "      <th>1</th>\n",
              "      <td>Great for the jawbone.</td>\n",
              "      <td>1</td>\n",
              "    </tr>\n",
              "    <tr>\n",
              "      <th>3</th>\n",
              "      <td>The mic is great.</td>\n",
              "      <td>1</td>\n",
              "    </tr>\n",
              "    <tr>\n",
              "      <th>6</th>\n",
              "      <td>If you are Razr owner...you must have this!</td>\n",
              "      <td>1</td>\n",
              "    </tr>\n",
              "    <tr>\n",
              "      <th>9</th>\n",
              "      <td>And the sound quality is great.</td>\n",
              "      <td>1</td>\n",
              "    </tr>\n",
              "  </tbody>\n",
              "</table>\n",
              "</div>"
            ],
            "text/plain": [
              "                                      sentence  label\n",
              "0                  Good case, Excellent value.      1\n",
              "1                       Great for the jawbone.      1\n",
              "3                            The mic is great.      1\n",
              "6  If you are Razr owner...you must have this!      1\n",
              "9              And the sound quality is great.      1"
            ]
          },
          "metadata": {
            "tags": []
          },
          "execution_count": 17
        }
      ]
    },
    {
      "cell_type": "code",
      "metadata": {
        "id": "tmn5lb6H22EI",
        "colab_type": "code",
        "colab": {}
      },
      "source": [
        "sentences = df['sentence'].values\n",
        "negative_sentences = negative_doc['sentence'].values\n",
        "positive_sentences = positive_doc['sentence'].values"
      ],
      "execution_count": 0,
      "outputs": []
    },
    {
      "cell_type": "code",
      "metadata": {
        "id": "UAcb3hiI3Ryh",
        "colab_type": "code",
        "outputId": "c84ad06f-a8a5-46a3-d946-09692b54fd02",
        "colab": {
          "base_uri": "https://localhost:8080/",
          "height": 34
        }
      },
      "source": [
        "total_documents = len(df.label)\n",
        "total_pdocs = len(positive_doc.label)\n",
        "total_ndocs = len(negative_doc.label)\n",
        "print(total_pdocs + total_ndocs == total_documents)"
      ],
      "execution_count": 19,
      "outputs": [
        {
          "output_type": "stream",
          "text": [
            "True\n"
          ],
          "name": "stdout"
        }
      ]
    },
    {
      "cell_type": "code",
      "metadata": {
        "id": "7khWMIrH4p8y",
        "colab_type": "code",
        "outputId": "04217a21-3d37-4f2d-a54e-b41f89d1c43c",
        "colab": {
          "base_uri": "https://localhost:8080/",
          "height": 34
        }
      },
      "source": [
        "#Naive Bayes\n",
        "negative_prior = total_ndocs/total_documents\n",
        "positive_prior = total_pdocs/total_documents\n",
        "#balanced dataset :)\n",
        "print(negative_prior, positive_prior)"
      ],
      "execution_count": 20,
      "outputs": [
        {
          "output_type": "stream",
          "text": [
            "0.4994994994994995 0.5005005005005005\n"
          ],
          "name": "stdout"
        }
      ]
    },
    {
      "cell_type": "code",
      "metadata": {
        "id": "6n7lzrME7eIj",
        "colab_type": "code",
        "outputId": "63a214f8-8c5a-41e2-eedc-d18a00aacfe2",
        "colab": {
          "base_uri": "https://localhost:8080/",
          "height": 34
        }
      },
      "source": [
        "sentences[0]"
      ],
      "execution_count": 21,
      "outputs": [
        {
          "output_type": "execute_result",
          "data": {
            "text/plain": [
              "'Good case, Excellent value.'"
            ]
          },
          "metadata": {
            "tags": []
          },
          "execution_count": 21
        }
      ]
    },
    {
      "cell_type": "code",
      "metadata": {
        "id": "15YQ564e8OFl",
        "colab_type": "code",
        "colab": {}
      },
      "source": [
        "tokens = []\n",
        "for line in sentences: \n",
        "  tokened = nltk.word_tokenize(line)\n",
        "  for token in tokened: \n",
        "    tokens.append(token)\n",
        "\n",
        "frequency = nltk.FreqDist(tokens)"
      ],
      "execution_count": 0,
      "outputs": []
    },
    {
      "cell_type": "code",
      "metadata": {
        "id": "jN2uSCr08kPw",
        "colab_type": "code",
        "colab": {}
      },
      "source": [
        "ptokens = []\n",
        "\n",
        "for line in positive_sentences:\n",
        "  tokened = nltk.word_tokenize(line)\n",
        "  for token in tokened: \n",
        "    ptokens.append(token)\n",
        "pfreq = nltk.FreqDist(ptokens)\n",
        "\n",
        "ntokens = []\n",
        "for line in negative_sentences: \n",
        "  tokened = nltk.word_tokenize(line)\n",
        "  for token in tokened: \n",
        "    ntokens.append(token)\n",
        "nfreq = nltk.FreqDist(ntokens)"
      ],
      "execution_count": 0,
      "outputs": []
    },
    {
      "cell_type": "code",
      "metadata": {
        "id": "yvFZpdgh9l8B",
        "colab_type": "code",
        "colab": {}
      },
      "source": [
        "for word, value in frequency.items(): \n",
        "  pfreq[word] = np.log((pfreq[word] + 1 ) / frequency[word] + 1)\n",
        "  nfreq[word] = np.log((nfreq[word] + 1 ) / frequency[word] + 1)"
      ],
      "execution_count": 0,
      "outputs": []
    },
    {
      "cell_type": "code",
      "metadata": {
        "id": "oUl_iA407jqx",
        "colab_type": "code",
        "colab": {}
      },
      "source": [
        "class naive_bayes():\n",
        "  def __init__(self, document):\n",
        "    self.document = document\n",
        "    #sentence col name == 'sentences'\n",
        "    self.sentences = document['sentence'].values\n",
        "    self.positive_sentences = document[document['label']==1].copy()\n",
        "    self.negative_sentences = document[document['label']==0].copy()\n",
        "\n",
        "    self.positive_sentences = self.positive_sentences['sentence'].values\n",
        "    self.negative_sentences = self.negative_sentences['sentence'].values\n",
        "\n",
        "    #Getting priors for positive and negative classes\n",
        "    self.N_doc = len(document['label'])\n",
        "    self.p_prior = np.log(len(positive_sentences) / self.N_doc)\n",
        "    self.n_prior = np.log(len(negative_sentences) / self.N_doc)\n",
        "    \n",
        "    #computing likelihoods for words given class\n",
        "    self.vocabulary, self.pfreq, self.nfreq = self.get_tokens()\n",
        "\n",
        "  def get_tokens(self):\n",
        "    list_of_tokens = []\n",
        "    #for vocab\n",
        "    for line in self.sentences: \n",
        "      tokenized = nltk.word_tokenize(line)\n",
        "      for word in tokenized: \n",
        "        list_of_tokens.append(word)\n",
        "    \n",
        "    vocabulary = set(list_of_tokens)\n",
        "\n",
        "\n",
        "    #for pvocab\n",
        "    pvocab = []\n",
        "    for line in self.positive_sentences: \n",
        "      tokenized = nltk.word_tokenize(line)\n",
        "      for word in tokenized: \n",
        "        pvocab.append(word)\n",
        "    pfreq = FreqDist(pvocab)\n",
        "\n",
        "    #for nvocab\n",
        "    nvocab = []\n",
        "    for line in self.sentences: \n",
        "      tokenized = nltk.word_tokenize(line)\n",
        "      for word in tokenized: \n",
        "        nvocab.append(word)\n",
        "    nfreq = FreqDist(nvocab)\n",
        "\n",
        "\n",
        "\n",
        "    return [vocabulary, pfreq, nfreq]\n",
        "    \n",
        "    \n",
        "  def get_probability(self, word):\n",
        "    p_l = np.log((self.pfreq[word] + 1) / (len(self.pfreq) + len(self.vocabulary)))\n",
        "    n_l = np.log((self.nfreq[word] + 1) / (len(self.nfreq) + len(self.vocabulary)))\n",
        "\n",
        "    # positive = self.p_prior * p_l\n",
        "    # negative = self.n_prior * n_l\n",
        "\n",
        "    return [p_l, n_l]\n",
        "\n",
        "\n",
        "\n",
        "v = naive_bayes(df).vocabulary"
      ],
      "execution_count": 0,
      "outputs": []
    },
    {
      "cell_type": "code",
      "metadata": {
        "id": "IuDA108rVr-1",
        "colab_type": "code",
        "colab": {
          "base_uri": "https://localhost:8080/",
          "height": 34
        },
        "outputId": "65c7a03c-9d47-40c6-b0a8-77b0f33360c5"
      },
      "source": [
        "naive_bayes(df).get_probability('awesome')"
      ],
      "execution_count": 207,
      "outputs": [
        {
          "output_type": "execute_result",
          "data": {
            "text/plain": [
              "[-6.787844982309579, -7.023758954738443]"
            ]
          },
          "metadata": {
            "tags": []
          },
          "execution_count": 207
        }
      ]
    },
    {
      "cell_type": "code",
      "metadata": {
        "id": "mP7eeyCUWKdy",
        "colab_type": "code",
        "colab": {}
      },
      "source": [
        "s = 'hate'\n",
        "naive_classifer = naive_bayes(df)\n",
        "positive = 0\n",
        "negative  = 0\n",
        "for word in word_tokenize(s): \n",
        "  positive += naive_classifer.get_probability(word)[0]\n",
        "  negative += naive_classifer.get_probability(word)[1]\n",
        "positive = positive * naive_classifer.p_prior\n",
        "negative = negative * naive_classifer.n_prior"
      ],
      "execution_count": 0,
      "outputs": []
    },
    {
      "cell_type": "code",
      "metadata": {
        "id": "14lNiKZRXvgb",
        "colab_type": "code",
        "colab": {
          "base_uri": "https://localhost:8080/",
          "height": 34
        },
        "outputId": "58a16909-6677-424d-feaf-26828de6ffa9"
      },
      "source": [
        "if positive < negative: \n",
        "  print(\"Positive Sentiment\")\n",
        "else:\n",
        "  print(\"Negative Sentiment\")"
      ],
      "execution_count": 267,
      "outputs": [
        {
          "output_type": "stream",
          "text": [
            "Negative Sentiment\n"
          ],
          "name": "stdout"
        }
      ]
    },
    {
      "cell_type": "code",
      "metadata": {
        "id": "5dMt9m12Z__K",
        "colab_type": "code",
        "colab": {}
      },
      "source": [
        ""
      ],
      "execution_count": 0,
      "outputs": []
    }
  ]
}