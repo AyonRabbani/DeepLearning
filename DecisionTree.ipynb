{
  "nbformat": 4,
  "nbformat_minor": 0,
  "metadata": {
    "colab": {
      "name": "DecisionTree",
      "provenance": [],
      "authorship_tag": "ABX9TyPMmPVV/fqfzW6f1bIIDMOf",
      "include_colab_link": true
    },
    "kernelspec": {
      "name": "python3",
      "display_name": "Python 3"
    }
  },
  "cells": [
    {
      "cell_type": "markdown",
      "metadata": {
        "id": "view-in-github",
        "colab_type": "text"
      },
      "source": [
        "<a href=\"https://colab.research.google.com/github/AyonRabbani/DeepLearning/blob/master/DecisionTree.ipynb\" target=\"_parent\"><img src=\"https://colab.research.google.com/assets/colab-badge.svg\" alt=\"Open In Colab\"/></a>"
      ]
    },
    {
      "cell_type": "code",
      "metadata": {
        "id": "OaI12DGMmJlY",
        "colab_type": "code",
        "colab": {
          "base_uri": "https://localhost:8080/",
          "height": 478
        },
        "outputId": "cdf53176-e678-4443-d52d-8483b3826b76"
      },
      "source": [
        "import pandas as pd\n",
        "import numpy as np \n",
        "import math \n",
        "\n",
        "df = pd.read_csv('winequality-white.csv', sep=';')\n",
        "cols = [col for col in df.columns if col != 'quality']\n",
        "\n",
        "x = df[cols]\n",
        "y = df.quality\n",
        "xsamp = x[:500]\n",
        "ysamp = y[:500]\n",
        "xsamp"
      ],
      "execution_count": 3,
      "outputs": [
        {
          "output_type": "execute_result",
          "data": {
            "text/html": [
              "<div>\n",
              "<style scoped>\n",
              "    .dataframe tbody tr th:only-of-type {\n",
              "        vertical-align: middle;\n",
              "    }\n",
              "\n",
              "    .dataframe tbody tr th {\n",
              "        vertical-align: top;\n",
              "    }\n",
              "\n",
              "    .dataframe thead th {\n",
              "        text-align: right;\n",
              "    }\n",
              "</style>\n",
              "<table border=\"1\" class=\"dataframe\">\n",
              "  <thead>\n",
              "    <tr style=\"text-align: right;\">\n",
              "      <th></th>\n",
              "      <th>fixed acidity</th>\n",
              "      <th>volatile acidity</th>\n",
              "      <th>citric acid</th>\n",
              "      <th>residual sugar</th>\n",
              "      <th>chlorides</th>\n",
              "      <th>free sulfur dioxide</th>\n",
              "      <th>total sulfur dioxide</th>\n",
              "      <th>density</th>\n",
              "      <th>pH</th>\n",
              "      <th>sulphates</th>\n",
              "      <th>alcohol</th>\n",
              "    </tr>\n",
              "  </thead>\n",
              "  <tbody>\n",
              "    <tr>\n",
              "      <th>0</th>\n",
              "      <td>7.0</td>\n",
              "      <td>0.270</td>\n",
              "      <td>0.36</td>\n",
              "      <td>20.7</td>\n",
              "      <td>0.045</td>\n",
              "      <td>45.0</td>\n",
              "      <td>170.0</td>\n",
              "      <td>1.0010</td>\n",
              "      <td>3.00</td>\n",
              "      <td>0.45</td>\n",
              "      <td>8.8</td>\n",
              "    </tr>\n",
              "    <tr>\n",
              "      <th>1</th>\n",
              "      <td>6.3</td>\n",
              "      <td>0.300</td>\n",
              "      <td>0.34</td>\n",
              "      <td>1.6</td>\n",
              "      <td>0.049</td>\n",
              "      <td>14.0</td>\n",
              "      <td>132.0</td>\n",
              "      <td>0.9940</td>\n",
              "      <td>3.30</td>\n",
              "      <td>0.49</td>\n",
              "      <td>9.5</td>\n",
              "    </tr>\n",
              "    <tr>\n",
              "      <th>2</th>\n",
              "      <td>8.1</td>\n",
              "      <td>0.280</td>\n",
              "      <td>0.40</td>\n",
              "      <td>6.9</td>\n",
              "      <td>0.050</td>\n",
              "      <td>30.0</td>\n",
              "      <td>97.0</td>\n",
              "      <td>0.9951</td>\n",
              "      <td>3.26</td>\n",
              "      <td>0.44</td>\n",
              "      <td>10.1</td>\n",
              "    </tr>\n",
              "    <tr>\n",
              "      <th>3</th>\n",
              "      <td>7.2</td>\n",
              "      <td>0.230</td>\n",
              "      <td>0.32</td>\n",
              "      <td>8.5</td>\n",
              "      <td>0.058</td>\n",
              "      <td>47.0</td>\n",
              "      <td>186.0</td>\n",
              "      <td>0.9956</td>\n",
              "      <td>3.19</td>\n",
              "      <td>0.40</td>\n",
              "      <td>9.9</td>\n",
              "    </tr>\n",
              "    <tr>\n",
              "      <th>4</th>\n",
              "      <td>7.2</td>\n",
              "      <td>0.230</td>\n",
              "      <td>0.32</td>\n",
              "      <td>8.5</td>\n",
              "      <td>0.058</td>\n",
              "      <td>47.0</td>\n",
              "      <td>186.0</td>\n",
              "      <td>0.9956</td>\n",
              "      <td>3.19</td>\n",
              "      <td>0.40</td>\n",
              "      <td>9.9</td>\n",
              "    </tr>\n",
              "    <tr>\n",
              "      <th>...</th>\n",
              "      <td>...</td>\n",
              "      <td>...</td>\n",
              "      <td>...</td>\n",
              "      <td>...</td>\n",
              "      <td>...</td>\n",
              "      <td>...</td>\n",
              "      <td>...</td>\n",
              "      <td>...</td>\n",
              "      <td>...</td>\n",
              "      <td>...</td>\n",
              "      <td>...</td>\n",
              "    </tr>\n",
              "    <tr>\n",
              "      <th>495</th>\n",
              "      <td>5.7</td>\n",
              "      <td>0.440</td>\n",
              "      <td>0.13</td>\n",
              "      <td>7.0</td>\n",
              "      <td>0.025</td>\n",
              "      <td>28.0</td>\n",
              "      <td>173.0</td>\n",
              "      <td>0.9913</td>\n",
              "      <td>3.33</td>\n",
              "      <td>0.48</td>\n",
              "      <td>12.5</td>\n",
              "    </tr>\n",
              "    <tr>\n",
              "      <th>496</th>\n",
              "      <td>7.2</td>\n",
              "      <td>0.400</td>\n",
              "      <td>0.62</td>\n",
              "      <td>10.8</td>\n",
              "      <td>0.041</td>\n",
              "      <td>70.0</td>\n",
              "      <td>189.0</td>\n",
              "      <td>0.9976</td>\n",
              "      <td>3.08</td>\n",
              "      <td>0.49</td>\n",
              "      <td>8.6</td>\n",
              "    </tr>\n",
              "    <tr>\n",
              "      <th>497</th>\n",
              "      <td>6.8</td>\n",
              "      <td>0.230</td>\n",
              "      <td>0.32</td>\n",
              "      <td>1.6</td>\n",
              "      <td>0.026</td>\n",
              "      <td>43.0</td>\n",
              "      <td>147.0</td>\n",
              "      <td>0.9904</td>\n",
              "      <td>3.29</td>\n",
              "      <td>0.54</td>\n",
              "      <td>12.5</td>\n",
              "    </tr>\n",
              "    <tr>\n",
              "      <th>498</th>\n",
              "      <td>5.7</td>\n",
              "      <td>0.335</td>\n",
              "      <td>0.34</td>\n",
              "      <td>1.0</td>\n",
              "      <td>0.040</td>\n",
              "      <td>13.0</td>\n",
              "      <td>174.0</td>\n",
              "      <td>0.9920</td>\n",
              "      <td>3.27</td>\n",
              "      <td>0.66</td>\n",
              "      <td>10.0</td>\n",
              "    </tr>\n",
              "    <tr>\n",
              "      <th>499</th>\n",
              "      <td>7.2</td>\n",
              "      <td>0.400</td>\n",
              "      <td>0.62</td>\n",
              "      <td>10.8</td>\n",
              "      <td>0.041</td>\n",
              "      <td>70.0</td>\n",
              "      <td>189.0</td>\n",
              "      <td>0.9976</td>\n",
              "      <td>3.08</td>\n",
              "      <td>0.49</td>\n",
              "      <td>8.6</td>\n",
              "    </tr>\n",
              "  </tbody>\n",
              "</table>\n",
              "<p>500 rows × 11 columns</p>\n",
              "</div>"
            ],
            "text/plain": [
              "     fixed acidity  volatile acidity  citric acid  ...    pH  sulphates  alcohol\n",
              "0              7.0             0.270         0.36  ...  3.00       0.45      8.8\n",
              "1              6.3             0.300         0.34  ...  3.30       0.49      9.5\n",
              "2              8.1             0.280         0.40  ...  3.26       0.44     10.1\n",
              "3              7.2             0.230         0.32  ...  3.19       0.40      9.9\n",
              "4              7.2             0.230         0.32  ...  3.19       0.40      9.9\n",
              "..             ...               ...          ...  ...   ...        ...      ...\n",
              "495            5.7             0.440         0.13  ...  3.33       0.48     12.5\n",
              "496            7.2             0.400         0.62  ...  3.08       0.49      8.6\n",
              "497            6.8             0.230         0.32  ...  3.29       0.54     12.5\n",
              "498            5.7             0.335         0.34  ...  3.27       0.66     10.0\n",
              "499            7.2             0.400         0.62  ...  3.08       0.49      8.6\n",
              "\n",
              "[500 rows x 11 columns]"
            ]
          },
          "metadata": {
            "tags": []
          },
          "execution_count": 3
        }
      ]
    },
    {
      "cell_type": "code",
      "metadata": {
        "id": "eNsknq2cx5qY",
        "colab_type": "code",
        "colab": {
          "base_uri": "https://localhost:8080/",
          "height": 141
        },
        "outputId": "7fa1436d-8f95-4828-bfc8-18d13d6aa19c"
      },
      "source": [
        "class DecisionTree():\n",
        "  def __init__(self, x, y, idxs = None):\n",
        "    if idxs is None: idxs = np.arange(len(y))\n",
        "    self.x, self.y, self.idxs = x, y, idxs \n",
        "    self.c, self.sample = x.shape[1], np.arange(len(idxs))\n",
        "    self.Score = float('inf')\n",
        "    self.val = np.mean(y[idxs]) \n",
        "    self.predictor_space()\n",
        "\n",
        "  @property\n",
        "  def split_name(self): return self.x.columns[self.var_col]\n",
        "\n",
        "  @property\n",
        "  def is_leaf(self): return self.Score == float('inf')\n",
        "\n",
        "  def predictor_space(self):\n",
        "    for i in range(self.c): self.find_space(i)\n",
        "    if self.Score == float('inf'): return\n",
        "    root = self.x.values[self.sample, self.var_col]\n",
        "    #creating found space\n",
        "    left_node = np.nonzero(root<=self.Split)[0]\n",
        "    right_node = np.nonzero(root>self.Split)[0]\n",
        "    self.left_node = DecisionTree(self.x, self.y, self.idxs[left_node])\n",
        "    self.right_node = DecisionTree(self.x, self.y, self.idxs[right_node])\n",
        "\n",
        "  def find_space(self, var_col): \n",
        "    x = self.x.values[self.sample, var_col]\n",
        "    y = self.y.values[self.sample]\n",
        "\n",
        "    for i in range(len(x)):\n",
        "      left_node = x<=x[i]\n",
        "      right_node = x>x[i]\n",
        "      left_value = y[left_node].std()\n",
        "      right_value = y[right_node].std()\n",
        "      if math.isnan(right_value.sum()):\n",
        "        continue\n",
        "      curr_score = left_value * left_value.sum() + right_value * right_value.sum()\n",
        "      if curr_score < self.Score: \n",
        "        self.Score, self.Split, self.var_col = curr_score, x[i], var_col\n",
        "  \n",
        "  def __repr__(self):\n",
        "        s = f'n: {self.sample}; val:{self.val}'\n",
        "        if not self.is_leaf:\n",
        "            s += f'; score:{self.Score}; split:{self.Split}; var:{self.split_name}'\n",
        "        return s\n",
        "        \n",
        "\n",
        "test = DecisionTree(xsamp,ysamp)"
      ],
      "execution_count": 4,
      "outputs": [
        {
          "output_type": "stream",
          "text": [
            "/usr/local/lib/python3.6/dist-packages/numpy/core/_methods.py:217: RuntimeWarning: Degrees of freedom <= 0 for slice\n",
            "  keepdims=keepdims)\n",
            "/usr/local/lib/python3.6/dist-packages/numpy/core/_methods.py:186: RuntimeWarning: invalid value encountered in true_divide\n",
            "  arrmean, rcount, out=arrmean, casting='unsafe', subok=False)\n",
            "/usr/local/lib/python3.6/dist-packages/numpy/core/_methods.py:209: RuntimeWarning: invalid value encountered in double_scalars\n",
            "  ret = ret.dtype.type(ret / rcount)\n"
          ],
          "name": "stderr"
        }
      ]
    },
    {
      "cell_type": "code",
      "metadata": {
        "id": "gvXVsn_dyGDV",
        "colab_type": "code",
        "colab": {
          "base_uri": "https://localhost:8080/",
          "height": 523
        },
        "outputId": "9376b3a3-ddad-41b5-921b-4921221211fc"
      },
      "source": [
        "test.right_node"
      ],
      "execution_count": 5,
      "outputs": [
        {
          "output_type": "execute_result",
          "data": {
            "text/plain": [
              "n: [  0   1   2   3   4   5   6   7   8   9  10  11  12  13  14  15  16  17\n",
              "  18  19  20  21  22  23  24  25  26  27  28  29  30  31  32  33  34  35\n",
              "  36  37  38  39  40  41  42  43  44  45  46  47  48  49  50  51  52  53\n",
              "  54  55  56  57  58  59  60  61  62  63  64  65  66  67  68  69  70  71\n",
              "  72  73  74  75  76  77  78  79  80  81  82  83  84  85  86  87  88  89\n",
              "  90  91  92  93  94  95  96  97  98  99 100 101 102 103 104 105 106 107\n",
              " 108 109 110 111 112 113 114 115 116 117 118 119 120 121 122 123 124 125\n",
              " 126 127 128 129 130 131 132 133 134 135 136 137 138 139 140 141 142 143\n",
              " 144 145 146 147 148 149 150 151 152 153 154 155 156 157 158 159 160 161\n",
              " 162 163 164 165 166 167 168 169 170 171 172 173 174 175 176 177 178 179\n",
              " 180 181 182 183 184 185 186 187 188 189 190 191 192 193 194 195 196 197\n",
              " 198 199 200 201 202 203 204 205 206 207 208 209 210 211 212 213 214 215\n",
              " 216 217 218 219 220 221 222 223 224 225 226 227 228 229 230 231 232 233\n",
              " 234 235 236 237 238 239 240 241 242 243 244 245 246 247 248 249 250 251\n",
              " 252 253 254 255 256 257 258 259 260 261 262 263 264 265 266 267 268 269\n",
              " 270 271 272 273 274 275 276 277 278 279 280 281 282 283 284 285 286 287\n",
              " 288 289 290 291 292 293 294 295 296 297 298 299 300 301 302 303 304 305\n",
              " 306 307 308 309 310 311 312 313 314 315 316 317 318 319 320 321 322 323\n",
              " 324 325 326 327 328 329 330 331 332 333 334 335 336 337 338 339 340 341\n",
              " 342 343 344 345 346 347 348 349 350 351 352 353 354 355 356 357 358 359\n",
              " 360 361 362 363 364 365 366 367 368 369 370 371 372 373 374 375 376 377\n",
              " 378 379 380 381 382 383 384 385 386 387 388 389 390 391 392 393 394 395\n",
              " 396 397 398 399 400 401 402 403 404 405 406 407 408 409 410 411 412 413\n",
              " 414 415 416 417 418 419 420 421 422 423 424 425 426 427 428 429 430 431\n",
              " 432 433 434 435 436 437 438 439 440 441 442 443 444 445 446 447 448 449\n",
              " 450 451 452 453 454 455 456 457 458 459 460 461 462 463 464 465 466 467\n",
              " 468 469 470 471 472 473 474 475 476 477 478 479 480 481 482 483 484 485\n",
              " 486 487 488 489 490 491 492 493 494 495 496]; val:5.808853118712274; score:0.7709846088282055; split:4.0; var:free sulfur dioxide"
            ]
          },
          "metadata": {
            "tags": []
          },
          "execution_count": 5
        }
      ]
    },
    {
      "cell_type": "code",
      "metadata": {
        "id": "ezrziC-z0PuK",
        "colab_type": "code",
        "colab": {
          "base_uri": "https://localhost:8080/",
          "height": 34
        },
        "outputId": "efc2bef0-62a7-40f1-8059-a675f175c2db"
      },
      "source": [
        "df.shape"
      ],
      "execution_count": 23,
      "outputs": [
        {
          "output_type": "execute_result",
          "data": {
            "text/plain": [
              "(4898, 12)"
            ]
          },
          "metadata": {
            "tags": []
          },
          "execution_count": 23
        }
      ]
    },
    {
      "cell_type": "code",
      "metadata": {
        "id": "w-u5mYRx1gnF",
        "colab_type": "code",
        "colab": {
          "base_uri": "https://localhost:8080/",
          "height": 34
        },
        "outputId": "c4ee7c07-7139-49ed-ed6f-f320b558b111"
      },
      "source": [
        "len(df)"
      ],
      "execution_count": 24,
      "outputs": [
        {
          "output_type": "execute_result",
          "data": {
            "text/plain": [
              "4898"
            ]
          },
          "metadata": {
            "tags": []
          },
          "execution_count": 24
        }
      ]
    },
    {
      "cell_type": "code",
      "metadata": {
        "id": "DzBTW7ae1hIS",
        "colab_type": "code",
        "colab": {}
      },
      "source": [
        ""
      ],
      "execution_count": 0,
      "outputs": []
    }
  ]
}