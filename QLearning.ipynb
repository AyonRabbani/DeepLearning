{
 "cells": [
  {
   "cell_type": "code",
   "execution_count": 1,
   "metadata": {},
   "outputs": [],
   "source": [
    "import numpy as np \n",
    "import gym \n",
    "import random \n",
    "import time \n",
    "from IPython.display import clear_output"
   ]
  },
  {
   "cell_type": "code",
   "execution_count": 2,
   "metadata": {},
   "outputs": [],
   "source": [
    "env = gym.make('FrozenLake-v0')"
   ]
  },
  {
   "cell_type": "code",
   "execution_count": 3,
   "metadata": {},
   "outputs": [
    {
     "name": "stdout",
     "output_type": "stream",
     "text": [
      "[[0. 0. 0. 0.]\n",
      " [0. 0. 0. 0.]\n",
      " [0. 0. 0. 0.]\n",
      " [0. 0. 0. 0.]\n",
      " [0. 0. 0. 0.]\n",
      " [0. 0. 0. 0.]\n",
      " [0. 0. 0. 0.]\n",
      " [0. 0. 0. 0.]\n",
      " [0. 0. 0. 0.]\n",
      " [0. 0. 0. 0.]\n",
      " [0. 0. 0. 0.]\n",
      " [0. 0. 0. 0.]\n",
      " [0. 0. 0. 0.]\n",
      " [0. 0. 0. 0.]\n",
      " [0. 0. 0. 0.]\n",
      " [0. 0. 0. 0.]]\n"
     ]
    }
   ],
   "source": [
    "action_space_size = env.action_space.n\n",
    "state_space_size = env.observation_space.n\n",
    "\n",
    "q_table = np.zeros((state_space_size, action_space_size))\n",
    "print(q_table)"
   ]
  },
  {
   "cell_type": "code",
   "execution_count": 7,
   "metadata": {},
   "outputs": [],
   "source": [
    "num_episodes = 10000\n",
    "max_steps_per_episode = 100\n",
    "\n",
    "learning_rate = 0.1\n",
    "discount_rate = 0.99\n",
    "\n",
    "exploration_rate = 1\n",
    "max_exploration_rate = 1\n",
    "min_exploration_rate = 0.01\n",
    "exploration_decay_rate = 0.001 "
   ]
  },
  {
   "cell_type": "code",
   "execution_count": 8,
   "metadata": {},
   "outputs": [
    {
     "name": "stdout",
     "output_type": "stream",
     "text": [
      "1000 ;  0.03400000000000002\n",
      "2000 ;  0.21700000000000016\n",
      "3000 ;  0.44000000000000034\n",
      "4000 ;  0.5600000000000004\n",
      "5000 ;  0.6240000000000004\n",
      "6000 ;  0.6380000000000005\n",
      "7000 ;  0.6770000000000005\n",
      "8000 ;  0.6850000000000005\n",
      "9000 ;  0.6720000000000005\n",
      "10000 ;  0.7050000000000005\n",
      "[[0.55302325 0.52843622 0.52618717 0.52447296]\n",
      " [0.30584972 0.25151467 0.22933831 0.51192986]\n",
      " [0.41258448 0.41899806 0.40244241 0.48994399]\n",
      " [0.32178861 0.33229425 0.27775502 0.46937593]\n",
      " [0.57417848 0.37143568 0.29673091 0.30878622]\n",
      " [0.         0.         0.         0.        ]\n",
      " [0.46534223 0.17676397 0.20501685 0.15308144]\n",
      " [0.         0.         0.         0.        ]\n",
      " [0.41751296 0.41526451 0.28035399 0.61119469]\n",
      " [0.384799   0.6552842  0.57771302 0.43469414]\n",
      " [0.59184491 0.34020576 0.43434481 0.32972295]\n",
      " [0.         0.         0.         0.        ]\n",
      " [0.         0.         0.         0.        ]\n",
      " [0.59043261 0.5049833  0.76154063 0.60270951]\n",
      " [0.75223783 0.87072465 0.75081443 0.75769606]\n",
      " [0.         0.         0.         0.        ]]\n"
     ]
    }
   ],
   "source": [
    "rewards = []\n",
    "\n",
    "#Q Learning algo\n",
    "for episode in range(num_episodes):\n",
    "    state = env.reset()\n",
    "    \n",
    "    done = False \n",
    "    rewards_current_episode = 0\n",
    "    \n",
    "    for step in range(max_steps_per_episode):\n",
    "        \n",
    "        exploration_rate_threshold = random.uniform(0,1)\n",
    "        if exploration_rate_threshold > exploration_rate: \n",
    "            action = np.argmax(q_table[state, :])\n",
    "        else: \n",
    "            action = env.action_space.sample()\n",
    "        \n",
    "        new_state, reward, done, info = env.step(action)\n",
    "        \n",
    "        #update Q-table \n",
    "        q_table[state, action] = q_table[state, action]*(1-learning_rate) + \\\n",
    "            learning_rate*(reward + discount_rate* np.max(q_table[new_state, :]))\n",
    "        \n",
    "        state = new_state\n",
    "        rewards_current_episode += reward\n",
    "        \n",
    "        if done == True:\n",
    "            break\n",
    "            \n",
    "    # exploration decay  \n",
    "    exploration_rate = min_exploration_rate + \\\n",
    "        (max_exploration_rate - min_exploration_rate) * np.exp(-exploration_decay_rate * episode)\n",
    "    \n",
    "    rewards.append(rewards_current_episode)\n",
    "   \n",
    "rewards_per_thousand_episodes = np.split(np.array(rewards), num_episodes/1000)\n",
    "count = 1000\n",
    "\n",
    "for r in rewards_per_thousand_episodes: \n",
    "    print(count, \"; \", str(sum(r/1000)))\n",
    "    count += 1000\n",
    "    \n",
    "print(q_table)\n"
   ]
  },
  {
   "cell_type": "code",
   "execution_count": 13,
   "metadata": {},
   "outputs": [
    {
     "name": "stdout",
     "output_type": "stream",
     "text": [
      "  (Down)\n",
      "SFFF\n",
      "FHFH\n",
      "FFFH\n",
      "HFF\u001b[41mG\u001b[0m\n",
      "Reached Goal!\n"
     ]
    }
   ],
   "source": [
    "for episode in range(5):\n",
    "    state = env.reset()\n",
    "    print(state)\n",
    "    done = False \n",
    "    print(\"********EPISODE\", episode+1, \"**********\\n\\n\\n\\n\\n\")\n",
    "    time.sleep(1)\n",
    "    \n",
    "    for step in range(max_steps_per_episode):\n",
    "        clear_output(wait=True)\n",
    "        env.render()\n",
    "        time.sleep(0.3)\n",
    "        \n",
    "        action = np.argmax(q_table[state, :])\n",
    "        new_state, reward, done, info = env.step(action)\n",
    "        \n",
    "        if done: \n",
    "            clear_output(wait=True)\n",
    "            env.render()\n",
    "            if reward == 1: \n",
    "                print(\"Reached Goal!\")\n",
    "                time.sleep(3)\n",
    "                \n",
    "            else: \n",
    "                print(\"You fell through\")\n",
    "                time.sleep(3)\n",
    "            clear_output(wait=True)\n",
    "            break\n",
    "            \n",
    "        state = new_state\n",
    "env.close()"
   ]
  },
  {
   "cell_type": "code",
   "execution_count": null,
   "metadata": {},
   "outputs": [],
   "source": []
  },
  {
   "cell_type": "code",
   "execution_count": null,
   "metadata": {},
   "outputs": [],
   "source": []
  }
 ],
 "metadata": {
  "kernelspec": {
   "display_name": "Python 3",
   "language": "python",
   "name": "python3"
  },
  "language_info": {
   "codemirror_mode": {
    "name": "ipython",
    "version": 3
   },
   "file_extension": ".py",
   "mimetype": "text/x-python",
   "name": "python",
   "nbconvert_exporter": "python",
   "pygments_lexer": "ipython3",
   "version": "3.7.1"
  }
 },
 "nbformat": 4,
 "nbformat_minor": 2
}
